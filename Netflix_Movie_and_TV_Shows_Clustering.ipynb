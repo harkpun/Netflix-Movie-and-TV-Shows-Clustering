{
  "nbformat": 4,
  "nbformat_minor": 0,
  "metadata": {
    "colab": {
      "private_outputs": true,
      "provenance": [],
      "collapsed_sections": [
        "MSa1f5Uengrz",
        "bamQiAODYuh1",
        "QHF8YVU7Yuh3",
        "GwzvFGzlYuh3",
        "qYpmQ266Yuh3",
        "OH-pJp9IphqM",
        "bbFf2-_FphqN",
        "_ouA3fa0phqN",
        "Seke61FWphqN",
        "PIIx-8_IphqN",
        "t27r6nlMphqO",
        "r2jJGEOYphqO",
        "b0JNsNcRphqO",
        "BZR9WyysphqO",
        "jj7wYXLtphqO",
        "eZrbJ2SmphqO",
        "rFu4xreNphqO",
        "YJ55k-q6phqO",
        "gCFgpxoyphqP",
        "OVtJsKN_phqQ",
        "lssrdh5qphqQ",
        "U2RJ9gkRphqQ",
        "1M8mcRywphqQ",
        "tgIPom80phqQ",
        "JMzcOPDDphqR",
        "x-EpHcCOp1ci",
        "X_VqEhTip1ck",
        "8zGJKyg5p1ck",
        "PVzmfK_Ep1ck",
        "n3dbpmDWp1ck",
        "ylSl6qgtp1ck",
        "ZWILFDl5p1ck",
        "M7G43BXep1ck",
        "Ag9LCva-p1cl",
        "E6MkPsBcp1cl",
        "2cELzS2fp1cl",
        "3MPXvC8up1cl",
        "NC_X3p0fY2L0",
        "UV0SzAkaZNRQ",
        "YPEH6qLeZNRQ",
        "q29F0dvdveiT",
        "EXh0U9oCveiU",
        "22aHeOlLveiV",
        "g-ATYxFrGrvw",
        "Yfr_Vlr8HBkt",
        "8yEUt7NnHlrM",
        "tEA2Xm5dHt1r",
        "I79__PHVH19G",
        "Ou-I18pAyIpj",
        "fF3858GYyt-u",
        "4_0_7-oCpUZd",
        "hwyV_J3ipUZe",
        "3yB-zSqbpUZe",
        "dEUvejAfpUZe",
        "Fd15vwWVpUZf",
        "bn_IUdTipZyH",
        "49K5P_iCpZyH",
        "Nff-vKELpZyI",
        "kLW572S8pZyI",
        "dWbDXHzopZyI",
        "xiyOF9F70UgQ",
        "7wuGOrhz0itI",
        "id1riN9m0vUs",
        "578E2V7j08f6",
        "89xtkJwZ18nB",
        "67NQN5KX2AMe",
        "Iwf50b-R2tYG",
        "GMQiZwjn3iu7",
        "WVIkgGqN3qsr",
        "XkPnILGE3zoT",
        "Hlsf0x5436Go",
        "mT9DMSJo4nBL",
        "c49ITxTc407N",
        "OeJFEK0N496M",
        "9ExmJH0g5HBk",
        "cJNqERVU536h",
        "k5UmGsbsOxih",
        "T0VqWOYE6DLQ",
        "qBMux9mC6MCf",
        "-oLEiFgy-5Pf",
        "C74aWNz2AliB",
        "2DejudWSA-a0",
        "pEMng2IbBLp7",
        "rAdphbQ9Bhjc",
        "TNVZ9zx19K6k",
        "nqoHp30x9hH9",
        "rMDnDkt2B6du",
        "yiiVWRdJDDil",
        "1UUpS68QDMuG",
        "kexQrXU-DjzY",
        "T5CmagL3EC8N",
        "BhH2vgX9EjGr",
        "qjKvONjwE8ra",
        "P1XJ9OREExlT",
        "VFOzZv6IFROw",
        "TIqpNgepFxVj",
        "VfCC591jGiD4",
        "OB4l2ZhMeS1U",
        "ArJBuiUVfxKd",
        "4qY1EAkEfxKe",
        "PiV4Ypx8fxKe",
        "TfvqoZmBfxKf",
        "dJ2tPlVmpsJ0",
        "JWYfwnehpsJ1",
        "-jK_YjpMpsJ2",
        "HAih1iBOpsJ2",
        "zVGeBEFhpsJ2",
        "bmKjuQ-FpsJ3",
        "Fze-IPXLpx6K",
        "7AN1z2sKpx6M",
        "9PIHJqyupx6M",
        "_-qAgymDpx6N",
        "Z-hykwinpx6N",
        "h_CCil-SKHpo",
        "cBFFvTBNJzUa",
        "HvGl1hHyA_VK",
        "EyNgTHvd2WFk",
        "KH5McJBi2d8v",
        "iW_Lq9qf2h6X",
        "-Kee-DAl2viO",
        "gIfDvo9L0UH2"
      ],
      "include_colab_link": true
    },
    "kernelspec": {
      "name": "python3",
      "display_name": "Python 3"
    },
    "language_info": {
      "name": "python"
    },
    "gpuClass": "standard",
    "accelerator": "TPU"
  },
  "cells": [
    {
      "cell_type": "markdown",
      "metadata": {
        "id": "view-in-github",
        "colab_type": "text"
      },
      "source": [
        "<a href=\"https://colab.research.google.com/github/harkpun/Netflix-Movie-and-TV-Shows-Clustering/blob/main/Netflix_Movie_and_TV_Shows_Clustering.ipynb\" target=\"_parent\"><img src=\"https://colab.research.google.com/assets/colab-badge.svg\" alt=\"Open In Colab\"/></a>"
      ]
    },
    {
      "cell_type": "markdown",
      "source": [
        "# <b><u> Project Title - Netflix Movie and TV Shows Clustering </u></b>\n",
        "\n"
      ],
      "metadata": {
        "id": "vncDsAP0Gaoa"
      }
    },
    {
      "cell_type": "markdown",
      "source": [
        "##### **Project Type**    - Unsupervised (Clustering, content based recommender system)\n",
        "##### **Contribution**    - Individual\n"
      ],
      "metadata": {
        "id": "beRrZCGUAJYm"
      }
    },
    {
      "cell_type": "markdown",
      "source": [
        "# **Project Summary -**\n",
        "\n",
        "### <b>In this  project, you are required to do </b>\n",
        "1. Exploratory Data Analysis \n",
        "\n",
        "2. Understanding what type content is available in different countries\n",
        "\n",
        "3. Is Netflix has increasingly focusing on TV rather than movies in recent years.\n",
        "4. Clustering similar content by matching text-based features\n",
        "5. At the end build Content Based Recommendation System."
      ],
      "metadata": {
        "id": "FJNUwmbgGyua"
      }
    },
    {
      "cell_type": "markdown",
      "source": [
        "Write the summary here within 500-600 words."
      ],
      "metadata": {
        "id": "F6v_1wHtG2nS"
      }
    },
    {
      "cell_type": "markdown",
      "source": [
        "# **GitHub Link** -"
      ],
      "metadata": {
        "id": "w6K7xa23Elo4"
      }
    },
    {
      "cell_type": "markdown",
      "source": [
        "https://github.com/harkpun/Netflix-Movie-and-TV-Shows-Clustering"
      ],
      "metadata": {
        "id": "h1o69JH3Eqqn"
      }
    },
    {
      "cell_type": "markdown",
      "source": [
        "# **Problem Statement**\n"
      ],
      "metadata": {
        "id": "yQaldy8SH6Dl"
      }
    },
    {
      "cell_type": "markdown",
      "source": [
        "<b>This dataset consists of tv shows and movies available on Netflix as of 2019. The dataset is collected from Flixable which is a third-party Netflix search engine.\n",
        "\n",
        "<b>Netflix is the world's largest online streaming service provider, with over 220 million subscribers as of 2022-Q2. It is crucial that they effectively cluster the shows that are hosted on their platform in order to enhance the user experience, thereby preventing subscriber churn.\n",
        "\n",
        "<b>We will be able to understand the shows that are similar to and different from one another by creating clusters, which may be leveraged to offer the consumers personalized show suggestions depending on their preferences.\n",
        "\n",
        "<b>The goal of this project is to classify/group the Netflix shows into certain clusters such that the shows within a cluster are similar to each other and the shows in different clusters are dissimilar to each other.\n"
      ],
      "metadata": {
        "id": "DpeJGUA3kjGy"
      }
    },
    {
      "cell_type": "markdown",
      "source": [
        "# ***Let's Begin !***"
      ],
      "metadata": {
        "id": "O_i_v8NEhb9l"
      }
    },
    {
      "cell_type": "markdown",
      "source": [
        "## ***1. Know Your Data***"
      ],
      "metadata": {
        "id": "HhfV-JJviCcP"
      }
    },
    {
      "cell_type": "markdown",
      "source": [
        "### Import Libraries"
      ],
      "metadata": {
        "id": "Y3lxredqlCYt"
      }
    },
    {
      "cell_type": "code",
      "source": [
        "# Import Libraries\n",
        "import numpy as np\n",
        "import pandas as pd\n",
        "import seaborn as sns\n",
        "import matplotlib.pyplot as plt\n",
        "%matplotlib inline\n",
        "\n",
        "import warnings\n",
        "warnings.filterwarnings('ignore')\n",
        "\n",
        "from wordcloud import WordCloud, STOPWORDS\n",
        "import re, string, unicodedata\n",
        "import nltk\n",
        "#import inflect\n",
        "from nltk import word_tokenize, sent_tokenize\n",
        "from nltk.corpus import stopwords\n",
        "from nltk.stem import LancasterStemmer, WordNetLemmatizer\n",
        "from sklearn.decomposition import PCA\n",
        "\n",
        "from nltk.stem import WordNetLemmatizer\n",
        "nltk.download('wordnet')\n",
        "import nltk\n",
        "nltk.download('stopwords')\n",
        "from nltk.corpus import stopwords\n",
        "import string\n",
        "string.punctuation\n",
        "nltk.download('omw-1.4')\n",
        "from nltk.tokenize import TweetTokenizer\n",
        "\n",
        "from sklearn.cluster import KMeans\n",
        "from sklearn.metrics import silhouette_score\n",
        "from sklearn.cluster import AgglomerativeClustering\n",
        "import scipy.cluster.hierarchy as shc\n",
        "\n",
        "from sklearn.feature_extraction.text import CountVectorizer\n",
        "from sklearn.feature_extraction.text import TfidfVectorizer\n",
        "from sklearn.metrics.pairwise import cosine_similarity"
      ],
      "metadata": {
        "id": "M8Vqi-pPk-HR"
      },
      "execution_count": null,
      "outputs": []
    },
    {
      "cell_type": "markdown",
      "source": [
        "### **Dataset Loading**"
      ],
      "metadata": {
        "id": "3RnN4peoiCZX"
      }
    },
    {
      "cell_type": "code",
      "source": [
        "# Load Dataset\n",
        "data = pd.read_csv('https://raw.githubusercontent.com/harkpun/Netflix-Movie-and-TV-Shows-Clustering/main/Data/NETFLIX%20MOVIES%20AND%20TV%20SHOWS%20CLUSTERING.csv')"
      ],
      "metadata": {
        "id": "4CkvbW_SlZ_R"
      },
      "execution_count": null,
      "outputs": []
    },
    {
      "cell_type": "markdown",
      "source": [
        "### **Understanding Data**"
      ],
      "metadata": {
        "id": "aaS1DoR3s758"
      }
    },
    {
      "cell_type": "code",
      "source": [
        "# top 5 rows\n",
        "data.head()"
      ],
      "metadata": {
        "id": "LWNFOSvLl09H"
      },
      "execution_count": null,
      "outputs": []
    },
    {
      "cell_type": "code",
      "source": [
        "# last 5 rows\n",
        "data.tail()"
      ],
      "metadata": {
        "id": "kPQ1RDLvJViS"
      },
      "execution_count": null,
      "outputs": []
    },
    {
      "cell_type": "code",
      "source": [
        "# Dataset Rows & Columns count\n",
        "print(f'number of rows : {data.shape[0]}  \\nnumber of columns : {data.shape[1]}')"
      ],
      "metadata": {
        "id": "Kllu7SJgmLij"
      },
      "execution_count": null,
      "outputs": []
    },
    {
      "cell_type": "code",
      "source": [
        "# unique values in each column\n",
        "data.nunique()"
      ],
      "metadata": {
        "id": "DOM3VMqVtwVj"
      },
      "execution_count": null,
      "outputs": []
    },
    {
      "cell_type": "markdown",
      "source": [
        "### **Attribute Information**\n",
        "- **show_id** : Unique ID for every Movie/Show\n",
        "- **type** : Identifier - Movie/Show\n",
        "- **title** : Title of the Movie/Show\n",
        "- **director** : Director of the Movie/Show\n",
        "- **cast** : Actors involved in the Movie/Show\n",
        "- **country** : Country where the Movie/Show was produced\n",
        "- **date_added** : Date it was added on Netflix\n",
        "- **release_year** : Actual Release year of the Movie/Show\n",
        "- **rating** : TV Rating of the Movie/Show\n",
        "- **duration** : Total Duration - in minutes or number of seasons\n",
        "- **listed_in** : Genre\n",
        "- **description**: The Summary description"
      ],
      "metadata": {
        "id": "iv5yaxlNt3wi"
      }
    },
    {
      "cell_type": "markdown",
      "source": [
        "### Dataset Information"
      ],
      "metadata": {
        "id": "JlHwYmJAmNHm"
      }
    },
    {
      "cell_type": "code",
      "source": [
        "# Dataset Info\n",
        "data.info()"
      ],
      "metadata": {
        "id": "e9hRXRi6meOf"
      },
      "execution_count": null,
      "outputs": []
    },
    {
      "cell_type": "markdown",
      "source": [
        "#### Duplicate Values"
      ],
      "metadata": {
        "id": "35m5QtbWiB9F"
      }
    },
    {
      "cell_type": "code",
      "source": [
        "# Dataset Duplicate Value Count\n",
        "data.duplicated().sum()"
      ],
      "metadata": {
        "id": "1sLdpKYkmox0"
      },
      "execution_count": null,
      "outputs": []
    },
    {
      "cell_type": "markdown",
      "source": [
        "#### Missing Values/Null Values"
      ],
      "metadata": {
        "id": "PoPl-ycgm1ru"
      }
    },
    {
      "cell_type": "code",
      "source": [
        "# Missing Values/Null Values Count\n",
        "data.isna().sum()"
      ],
      "metadata": {
        "id": "GgHWkxvamxVg"
      },
      "execution_count": null,
      "outputs": []
    },
    {
      "cell_type": "code",
      "source": [
        "# Missing Values Percentage\n",
        "round(data.isna().sum()/data.shape[0]*100, 2).sort_values(ascending=False).head(5)"
      ],
      "metadata": {
        "id": "4shq8gw0LpFr"
      },
      "execution_count": null,
      "outputs": []
    },
    {
      "cell_type": "code",
      "source": [
        "# Visualizing the missing values\n",
        "import missingno as msno\n",
        "msno.bar(data, figsize=(10,5), color='black', fontsize=12)"
      ],
      "metadata": {
        "id": "3q5wnI3om9sJ"
      },
      "execution_count": null,
      "outputs": []
    },
    {
      "cell_type": "code",
      "source": [
        "# Visualizing the missing values using Heatmap\n",
        "plt.figure(figsize=(10,5))\n",
        "sns.heatmap(data.isna())"
      ],
      "metadata": {
        "id": "cCwPadNMSo5T"
      },
      "execution_count": null,
      "outputs": []
    },
    {
      "cell_type": "markdown",
      "source": [
        "NaN values present in the director, cast, country, date_added and rating column. \n",
        "\n",
        "All the data that we have is related to each specific movie. So, we can't impute any null values with using any method. Also we don't want to loose any data since the data size is small for that reason we simply impute nan values with empty space in below procedure analyzing each columns.  "
      ],
      "metadata": {
        "id": "gfoNAAC-nUe_"
      }
    },
    {
      "cell_type": "markdown",
      "source": [
        "## ***2. Understanding Your Variables***"
      ],
      "metadata": {
        "id": "nA9Y7ga8ng1Z"
      }
    },
    {
      "cell_type": "code",
      "source": [
        "# Dataset Columns\n",
        "data.columns"
      ],
      "metadata": {
        "id": "j7xfkqrt5Ag5"
      },
      "execution_count": null,
      "outputs": []
    },
    {
      "cell_type": "code",
      "source": [
        "# Dataset Describe\n",
        "data.describe(include='all').transpose()"
      ],
      "metadata": {
        "id": "DnOaZdaE5Q5t"
      },
      "execution_count": null,
      "outputs": []
    },
    {
      "cell_type": "markdown",
      "source": [
        "### Variables Description "
      ],
      "metadata": {
        "id": "PBTbrJXOngz2"
      }
    },
    {
      "cell_type": "markdown",
      "source": [
        "Answer Here"
      ],
      "metadata": {
        "id": "aJV4KIxSnxay"
      }
    },
    {
      "cell_type": "markdown",
      "source": [
        "### Check Unique Values for each variable."
      ],
      "metadata": {
        "id": "u3PMJOP6ngxN"
      }
    },
    {
      "cell_type": "code",
      "source": [
        "# Check Unique Values for each variable.\n",
        "for i in data.columns:\n",
        "  print(f'number of unique values in {i} column : {data[i].nunique()}    \\nunique values :\\n{data[i].unique()}')\n",
        "  print('='*200)"
      ],
      "metadata": {
        "id": "zms12Yq5n-jE"
      },
      "execution_count": null,
      "outputs": []
    },
    {
      "cell_type": "markdown",
      "source": [
        "## 3. ***Data Wrangling***"
      ],
      "metadata": {
        "id": "dauF4eBmngu3"
      }
    },
    {
      "cell_type": "markdown",
      "source": [
        "### Data Wrangling Code"
      ],
      "metadata": {
        "id": "bKJF3rekwFvQ"
      }
    },
    {
      "cell_type": "code",
      "source": [
        "data.info()"
      ],
      "metadata": {
        "id": "lfpeoj5kTZ2C"
      },
      "execution_count": null,
      "outputs": []
    },
    {
      "cell_type": "code",
      "source": [
        "# Write your code to make your dataset analysis ready.\n",
        "df = data.drop('show_id', axis=1)"
      ],
      "metadata": {
        "id": "wk-9a2fpoLcV"
      },
      "execution_count": null,
      "outputs": []
    },
    {
      "cell_type": "markdown",
      "source": [
        "### What all manipulations have you done and insights you found?"
      ],
      "metadata": {
        "id": "MSa1f5Uengrz"
      }
    },
    {
      "cell_type": "markdown",
      "source": [
        "Answer Here."
      ],
      "metadata": {
        "id": "LbyXE7I1olp8"
      }
    },
    {
      "cell_type": "markdown",
      "source": [
        "## ***4. Data Vizualization, Storytelling & Experimenting with charts : Understand the relationships between variables***"
      ],
      "metadata": {
        "id": "GF8Ens_Soomf"
      }
    },
    {
      "cell_type": "markdown",
      "source": [
        "#### **Type**"
      ],
      "metadata": {
        "id": "0wOQAZs5pc--"
      }
    },
    {
      "cell_type": "code",
      "source": [
        "# Chart - 1 visualization code\n",
        "\n",
        "fig,ax = plt.subplots(1,2, figsize=(14,5))\n",
        "\n",
        "# coutplot\n",
        "graph = sns.countplot(x=data['type'], ax=ax[0])\n",
        "graph.set_title('Values Count', size=18)\n",
        "# adding value count on the top of bar\n",
        "for p in graph.patches:\n",
        "   graph.annotate('{:.1f}'.format(p.get_height()), (p.get_x()+0.25, p.get_height()+0.01))\n",
        "\n",
        "# piechart\n",
        "df['type'].value_counts().plot(kind='pie', autopct='%1.2f%%', ax=ax[1])\n",
        "plt.title('Percentage Distribution', size=18)\n",
        "\n",
        "plt.tight_layout()\n",
        "plt.show()"
      ],
      "metadata": {
        "id": "7v_ESjsspbW7"
      },
      "execution_count": null,
      "outputs": []
    },
    {
      "cell_type": "markdown",
      "source": [
        "**Obesrvation:** 69% of data belong from Movie class and 31% of data belong from TV shows "
      ],
      "metadata": {
        "id": "_ekbmlIDgeFM"
      }
    },
    {
      "cell_type": "markdown",
      "source": [
        "#### **Title**"
      ],
      "metadata": {
        "id": "KSlN3yHqYklG"
      }
    },
    {
      "cell_type": "code",
      "source": [
        "df['title'].nunique()"
      ],
      "metadata": {
        "id": "AoZgdgj3aIGK"
      },
      "execution_count": null,
      "outputs": []
    },
    {
      "cell_type": "code",
      "source": [
        "# Chart - 2 visualization code\n",
        "\n",
        "#word cloud imports\n",
        "from os import path\n",
        "from PIL import Image\n",
        "from wordcloud import WordCloud, STOPWORDS\n",
        "\n",
        "# text documents\n",
        "text = \" \".join(word for word in df['title'])\n",
        "\n",
        "# create the word cloud\n",
        "wordcloud = WordCloud(stopwords=STOPWORDS).generate(text)\n",
        "\n",
        "# plot the word cloud\n",
        "plt.imshow(wordcloud,  interpolation='bilinear')\n",
        "plt.axis(\"off\")\n",
        "plt.show()"
      ],
      "metadata": {
        "id": "kiNRJkqTRb_G"
      },
      "execution_count": null,
      "outputs": []
    },
    {
      "cell_type": "markdown",
      "source": [
        "**Obesrvation:** word like Christmas, Love, World, Man, Story are very comman word which are appear most of the time in movie title column."
      ],
      "metadata": {
        "id": "5hXWtyKPhB9o"
      }
    },
    {
      "cell_type": "markdown",
      "source": [
        "#### **Director**"
      ],
      "metadata": {
        "id": "EM7whBJCYoAo"
      }
    },
    {
      "cell_type": "code",
      "source": [
        "print(f'number of unique classes : {df.director.nunique()}')\n",
        "print(f'counting null value : {df.director.isna().sum()}')"
      ],
      "metadata": {
        "id": "OZHWJ4oJXKRF"
      },
      "execution_count": null,
      "outputs": []
    },
    {
      "cell_type": "code",
      "source": [
        "print(f\"number of movie directed by director is : { df[df['type']=='TV Show']['director'].value_counts().sum()}\")\n",
        "print(f\"number of TV show directed by director is : { df[df['type']=='Movie']['director'].value_counts().sum()}\")"
      ],
      "metadata": {
        "id": "xO4DQef0Ptb3"
      },
      "execution_count": null,
      "outputs": []
    },
    {
      "cell_type": "code",
      "source": [
        "fig,ax = plt.subplots(1,2, figsize=(14,5))\n",
        "\n",
        "# top 10 director who directed TV show\n",
        "show = df[df['type']=='TV Show']['director'].value_counts()[:10].plot(kind='barh', ax=ax[0])\n",
        "show.set_title('top 10 director who directed TV Show', size=15)\n",
        "\n",
        "# top 10 director who directed movie\n",
        "movie = df[df['type']=='Movie']['director'].value_counts()[:10].plot(kind='barh', ax=ax[1])\n",
        "movie.set_title('top 10 director who directed Movie', size=15)\n",
        "\n",
        "plt.tight_layout()\n",
        "plt.show()"
      ],
      "metadata": {
        "id": "U4LsCE67HbO2"
      },
      "execution_count": null,
      "outputs": []
    },
    {
      "cell_type": "markdown",
      "source": [
        "**Obesrvation:**  \n",
        "1. Alstair Fothergill directed highest shows in datalist which is 3.\n",
        "2. Raul Campos and Jan Suter together have directed 18 movies, higher than anyone in the dataset."
      ],
      "metadata": {
        "id": "_sTYEQbUiPt5"
      }
    },
    {
      "cell_type": "markdown",
      "source": [
        "#### **Cast**"
      ],
      "metadata": {
        "id": "4Of9eVA-YrdM"
      }
    },
    {
      "cell_type": "code",
      "source": [
        "# number of unique values\n",
        "df.cast.nunique()"
      ],
      "metadata": {
        "id": "FuXu0XfZjiaX"
      },
      "execution_count": null,
      "outputs": []
    },
    {
      "cell_type": "code",
      "source": [
        "# number of nan values\n",
        "df.cast.isna().sum()"
      ],
      "metadata": {
        "id": "xQbZ4SkclK1v"
      },
      "execution_count": null,
      "outputs": []
    },
    {
      "cell_type": "code",
      "source": [
        "# Chart - 4 visualization code\n",
        "\n",
        "\n",
        "#word cloud imports\n",
        "from wordcloud import WordCloud, STOPWORDS\n",
        "\n",
        "cast = df.cast.fillna('')\n",
        "\n",
        "# text documents\n",
        "text = \" \".join(str(word) for word in cast)\n",
        "\n",
        "# create the word cloud\n",
        "wordcloud = WordCloud().generate(text)\n",
        "\n",
        "# plot the word cloud\n",
        "plt.imshow(wordcloud,  interpolation='bilinear')\n",
        "plt.axis(\"off\")\n",
        "plt.show()"
      ],
      "metadata": {
        "id": "irlUoxc8YrdO"
      },
      "execution_count": null,
      "outputs": []
    },
    {
      "cell_type": "markdown",
      "source": [
        "#### **Country**"
      ],
      "metadata": {
        "id": "bamQiAODYuh1"
      }
    },
    {
      "cell_type": "code",
      "source": [
        "fig,ax = plt.subplots(1,2, figsize=(18,6))\n",
        "plt.suptitle('Top 10 country with the highest number of movie/shows', weight='bold', size=15, y=1.01)\n",
        "\n",
        "# univariate analysis\n",
        "df['country'].value_counts().nlargest(10).plot(kind='barh', ax=ax[0]) #sns.countplot(x=\"country\", data=df, order=df['country'].value_counts().index[0:10], ax=ax[0])\n",
        "\n",
        "# bivariate analysis\n",
        "graph = sns.countplot(x=\"country\", data=df, hue='type', order=df['country'].value_counts().index[0:10], ax=ax[1])\n",
        "plt.xticks(rotation=90)\n",
        "for p in graph.patches:  #adding value count on the top of bar\n",
        "   graph.annotate(format(p.get_height(), '.0f'), (p.get_x(), p.get_height()))\n",
        "\n",
        "plt.tight_layout()\n",
        "plt.show()"
      ],
      "metadata": {
        "id": "wC02RFg9_u6l"
      },
      "execution_count": null,
      "outputs": []
    },
    {
      "cell_type": "markdown",
      "source": [
        "**Observation :** The highest number of movies / TV shows were based out of the US, followed by India and UK."
      ],
      "metadata": {
        "id": "BuQ4lVp3y6Wd"
      }
    },
    {
      "cell_type": "code",
      "source": [
        "# % share of movies / tv shows by top 10 countries\n",
        "df['country'].value_counts().nlargest(10).sum()/len(df)*100"
      ],
      "metadata": {
        "id": "LxfWLcTryZZH"
      },
      "execution_count": null,
      "outputs": []
    },
    {
      "cell_type": "markdown",
      "source": [
        "- The top 10 countries together account for about 63% of all movies and TV shows in the dataset."
      ],
      "metadata": {
        "id": "pkR2ULaIzFgp"
      }
    },
    {
      "cell_type": "markdown",
      "source": [
        "### **Release Year**"
      ],
      "metadata": {
        "id": "yrl0dRt-ziwc"
      }
    },
    {
      "cell_type": "code",
      "source": [
        "fig,ax = plt.subplots(1,2, figsize=(18,6))\n",
        "\n",
        "# Univariate analysis\n",
        "hist = sns.histplot(df['release_year'], ax=ax[0])\n",
        "hist.set_title('distribution by released year', size=15)\n",
        "\n",
        "# Bivariate analysis\n",
        "count = sns.countplot(x=\"release_year\", hue='type', data=df, order=df['release_year'].value_counts().index[0:15], ax=ax[1])\n",
        "count.set_title('movie/shows release in each year', size=15)\n",
        "plt.xticks(rotation=90)\n",
        "for p in count.patches:  #adding value count on the top of bar\n",
        "   count.annotate(format(p.get_height(), '.0f'), (p.get_x(), p.get_height()))\n",
        "\n",
        "plt.tight_layout()\n",
        "plt.show()"
      ],
      "metadata": {
        "id": "eJFES2vtzqIk"
      },
      "execution_count": null,
      "outputs": []
    },
    {
      "cell_type": "markdown",
      "source": [
        "**Obesrvation :** \n",
        "1. Netflix has greater number of new movies / TV shows than the old ones.\n",
        "2. Highest number of movie/shows are relesed in netflix in between 2015-2020 and highest number of count belong from 2018 year."
      ],
      "metadata": {
        "id": "4VWxcrbK3gSQ"
      }
    },
    {
      "cell_type": "markdown",
      "source": [
        "### **Rating**"
      ],
      "metadata": {
        "id": "CAeMrJYp4uOU"
      }
    },
    {
      "cell_type": "code",
      "source": [
        "# unique clas  present in rating column\n",
        "df.rating.nunique()"
      ],
      "metadata": {
        "id": "mAiiM5_hzQ9q"
      },
      "execution_count": null,
      "outputs": []
    },
    {
      "cell_type": "code",
      "source": [
        "fig,ax = plt.subplots(1,2, figsize=(18,6))\n",
        "plt.suptitle('Top 10 rating given for movie and shows', weight='bold', size=15, y=1.01)\n",
        "\n",
        "# univariate analysis\n",
        "df.rating.value_counts()[:10].plot(kind='barh', ax=ax[0])\n",
        "\n",
        "# bivariate analysis\n",
        "graph = sns.countplot(x=\"rating\", data=df, hue='type', order=df['rating'].value_counts().index[0:10], ax=ax[1])\n",
        "plt.xticks(rotation=90)\n",
        "for p in graph.patches:  #adding value count on the top of bar\n",
        "   graph.annotate(format(p.get_height(), '.0f'), (p.get_x(), p.get_height()))\n",
        "\n",
        "plt.tight_layout()\n",
        "plt.show()"
      ],
      "metadata": {
        "id": "1ufKabec4yix"
      },
      "execution_count": null,
      "outputs": []
    },
    {
      "cell_type": "markdown",
      "source": [
        "### **Listed In (Geners)**"
      ],
      "metadata": {
        "id": "qYA0FLwEUtzb"
      }
    },
    {
      "cell_type": "code",
      "source": [
        "# seperating genre from listed_in columns for analysis purpose\n",
        "genres = df['listed_in'].str.split(', ', expand=True).stack().reset_index(level=1, drop=True)\n",
        "\n",
        "# top 10 genre in listed movie/show\n",
        "genres = genres.value_counts().reset_index().rename(columns={'index':'genre', 0:'count'})\n",
        "genres[:10]"
      ],
      "metadata": {
        "id": "cKjDN-C9gf3y"
      },
      "execution_count": null,
      "outputs": []
    },
    {
      "cell_type": "code",
      "source": [
        "# number of genres present in dataset \n",
        "len(genres)"
      ],
      "metadata": {
        "id": "wJJUmsX12pLo"
      },
      "execution_count": null,
      "outputs": []
    },
    {
      "cell_type": "code",
      "source": [
        "# plotting graph\n",
        "graph = sns.barplot(x='genre', y='count', data=genres)\n",
        "graph.set_title('top genres present in netflix', size=20)\n",
        "plt.xticks(rotation=90)\n",
        "\n",
        "\n",
        "#adding value count on the top of bar\n",
        "for p in graph.patches:\n",
        "   graph.annotate(format(p.get_height(), '.0f'), (p.get_x(), p.get_height()))\n",
        "\n",
        "plt.show()"
      ],
      "metadata": {
        "id": "qR9JHUjhdMwW"
      },
      "execution_count": null,
      "outputs": []
    },
    {
      "cell_type": "markdown",
      "source": [
        "### **Description**"
      ],
      "metadata": {
        "id": "6Dx4ARZdloEo"
      }
    },
    {
      "cell_type": "code",
      "source": [
        "# text documents\n",
        "text = \" \".join(word for word in df['description'])\n",
        "\n",
        "# create the word cloud\n",
        "wordcloud = WordCloud(stopwords=STOPWORDS).generate(text)\n",
        "\n",
        "# plot the word cloud\n",
        "plt.imshow(wordcloud,  interpolation='bilinear')\n",
        "plt.axis(\"off\")\n",
        "plt.show()"
      ],
      "metadata": {
        "id": "qcYvric8yiKr"
      },
      "execution_count": null,
      "outputs": []
    },
    {
      "cell_type": "markdown",
      "source": [
        "**Observation :** Most of the comman words present in description column are family, find, life, love, new, world, friend."
      ],
      "metadata": {
        "id": "8GpaVCpm2LK3"
      }
    },
    {
      "cell_type": "markdown",
      "source": [
        "## ***6. Feature Engineering & Data Pre-processing***"
      ],
      "metadata": {
        "id": "yLjJCtPM0KBk"
      }
    },
    {
      "cell_type": "markdown",
      "source": [
        "### 1. Handling Missing Values"
      ],
      "metadata": {
        "id": "xiyOF9F70UgQ"
      }
    },
    {
      "cell_type": "code",
      "source": [
        "# Missing Data %\n",
        "round(df.isna().sum()/len(df)*100, 2).sort_values(ascending=False)"
      ],
      "metadata": {
        "id": "CgYXc6C13YK_"
      },
      "execution_count": null,
      "outputs": []
    },
    {
      "cell_type": "markdown",
      "source": [
        "- The missing values in the director, cast, and country attributes can be replaced with 'empty string'\n",
        "- Small amount of null value percentage present in rating and date_added column, if we drop these nan values it will not affect that much while building the model. So, we simply drop the nan value present in rating and date_added columns."
      ],
      "metadata": {
        "id": "T44c1GI030aC"
      }
    },
    {
      "cell_type": "code",
      "source": [
        "# Handling Missing Values & Missing Value Imputation\n",
        "df[['director','cast','country']] = df[['director','cast','country']].fillna(' ')\n",
        "df.dropna(axis=0, inplace=True)"
      ],
      "metadata": {
        "id": "iRsAHk1K0fpS"
      },
      "execution_count": null,
      "outputs": []
    },
    {
      "cell_type": "code",
      "source": [
        "# checking for null values after treating them.\n",
        "df.isna().sum()"
      ],
      "metadata": {
        "id": "XGo8hNjX6U71"
      },
      "execution_count": null,
      "outputs": []
    },
    {
      "cell_type": "markdown",
      "source": [
        "### 2. Handling Outliers"
      ],
      "metadata": {
        "id": "id1riN9m0vUs"
      }
    },
    {
      "cell_type": "code",
      "source": [
        "# Handling Outliers & Outlier treatments\n",
        "sns.boxplot(data=df)"
      ],
      "metadata": {
        "id": "M6w2CzZf04JK"
      },
      "execution_count": null,
      "outputs": []
    },
    {
      "cell_type": "markdown",
      "source": [
        "## **4. Modelling Approach**\n",
        "1. Select the attributes based on which you want to cluster the shows\n",
        "2. Text preprocessing: Remove all non-ascii characters, stopwords and punctuation marks, convert all textual data to lowercase.\n",
        "3. Stemming to generate a meaningful word out of corpus of words.\n",
        "4. Tokenization of corpus\n",
        "5. Word vectorization\n",
        "6. Dimensionality reduction\n",
        "7. Use different algorithms to cluster the movies, obtain the optimal number of clusters using different techniques\n",
        "8. Build optimal number of clusters and visualize the contents of each cluster using wordclouds."
      ],
      "metadata": {
        "id": "R9U2-cqC7q3d"
      }
    },
    {
      "cell_type": "markdown",
      "source": [
        "### 4. Textual Data Preprocessing \n",
        "(It's mandatory for textual dataset i.e., NLP, Sentiment Analysis, Text Clustering etc.)"
      ],
      "metadata": {
        "id": "Iwf50b-R2tYG"
      }
    },
    {
      "cell_type": "markdown",
      "source": [
        "#### **1. Expand Contraction**"
      ],
      "metadata": {
        "id": "GMQiZwjn3iu7"
      }
    },
    {
      "cell_type": "markdown",
      "source": [
        "\n",
        "We will cluster the shows on Netflix based on the following attributes:\n",
        "\n",
        "- Director\n",
        "- Cast\n",
        "- Country\n",
        "- Rating\n",
        "- Listed in (genres)\n",
        "- Description"
      ],
      "metadata": {
        "id": "tc19aszD8Z6j"
      }
    },
    {
      "cell_type": "code",
      "source": [
        "# Expand Contraction\n",
        "# creating tags column using all text column which one is used for model building purpose.\n",
        "df['tags'] = df['description'] + df['listed_in'] + df['rating'] + df['cast'] + df['country'] + df['director']"
      ],
      "metadata": {
        "id": "PTouz10C3oNN"
      },
      "execution_count": null,
      "outputs": []
    },
    {
      "cell_type": "markdown",
      "source": [
        "- We have successfully added all the necessary data into a single column."
      ],
      "metadata": {
        "id": "qgmTYFmZAHAw"
      }
    },
    {
      "cell_type": "markdown",
      "source": [
        "#### **2. Removing Stopwords and Lower Casing.**"
      ],
      "metadata": {
        "id": "WVIkgGqN3qsr"
      }
    },
    {
      "cell_type": "code",
      "source": [
        "# download the stop words list if it is not already downloaded\n",
        "nltk.download('stopwords')\n",
        "\n",
        "# create a set of English stop words\n",
        "stop_words = stopwords.words('english')\n",
        "\n",
        "# displaying stopwords\n",
        "np.array(stop_words)"
      ],
      "metadata": {
        "id": "88JnJ1jN3w7j"
      },
      "execution_count": null,
      "outputs": []
    },
    {
      "cell_type": "code",
      "source": [
        "def stopwords(text):\n",
        "    '''a function for removing the stopword and lowercase the each word'''\n",
        "    text = [word.lower() for word in text.split() if word.lower() not in stop_words]\n",
        "    # joining the list of words with space separator\n",
        "    return \" \".join(text)"
      ],
      "metadata": {
        "id": "fbKFwQIDCKfW"
      },
      "execution_count": null,
      "outputs": []
    },
    {
      "cell_type": "code",
      "source": [
        "# applying stopwords function.\n",
        "df['tags'] = df['tags'].apply(stopwords)"
      ],
      "metadata": {
        "id": "ZwnmUycEChbW"
      },
      "execution_count": null,
      "outputs": []
    },
    {
      "cell_type": "code",
      "source": [
        "df.tags[0]"
      ],
      "metadata": {
        "id": "IqA7kO4nC2-A"
      },
      "execution_count": null,
      "outputs": []
    },
    {
      "cell_type": "markdown",
      "source": [
        "- We have successfully removed all the stopwords and converted the corpus to lowercase."
      ],
      "metadata": {
        "id": "MjTOFOXFDBpU"
      }
    },
    {
      "cell_type": "markdown",
      "source": [
        "#### **3. Removing Punctuations**"
      ],
      "metadata": {
        "id": "XkPnILGE3zoT"
      }
    },
    {
      "cell_type": "code",
      "source": [
        "# function to remove punctuations\n",
        "\n",
        "def remove_punctuation(text):\n",
        "    '''a function for removing punctuation'''\n",
        "    import string\n",
        "    # replacing the punctuations with no space, which in effect deletes the punctuation marks.\n",
        "    translator = str.maketrans('', '', string.punctuation)\n",
        "    # return the text stripped of punctuation marks\n",
        "    return text.translate(translator)"
      ],
      "metadata": {
        "id": "vqbBqNaA33c0"
      },
      "execution_count": null,
      "outputs": []
    },
    {
      "cell_type": "code",
      "source": [
        "# applying remove_punctuation function\n",
        "df['tags'] = df['tags'].apply(remove_punctuation)"
      ],
      "metadata": {
        "id": "YHvz2etaDct_"
      },
      "execution_count": null,
      "outputs": []
    },
    {
      "cell_type": "code",
      "source": [
        "df.tags[0]"
      ],
      "metadata": {
        "id": "NlY27vlfDtLm"
      },
      "execution_count": null,
      "outputs": []
    },
    {
      "cell_type": "markdown",
      "source": [
        "- We have successfully remove all the punctuation marks from the corpus."
      ],
      "metadata": {
        "id": "42hjyRpCDyVW"
      }
    },
    {
      "cell_type": "markdown",
      "source": [
        "#### **4. Rephrase Text using SnowballStemmer**"
      ],
      "metadata": {
        "id": "c49ITxTc407N"
      }
    },
    {
      "cell_type": "code",
      "source": [
        "from nltk.stem.snowball import SnowballStemmer\n",
        "\n",
        "# create an object of stemming function\n",
        "stemmer = SnowballStemmer(\"english\")\n",
        "\n",
        "def stemming(text):    \n",
        "    '''a function which stems each word in the given text'''\n",
        "    text = [stemmer.stem(word) for word in text.split()]\n",
        "    return \" \".join(text)"
      ],
      "metadata": {
        "id": "foqY80Qu48N2"
      },
      "execution_count": null,
      "outputs": []
    },
    {
      "cell_type": "code",
      "source": [
        "# appying stemming function\n",
        "df['tags'] = df['tags'].apply(stemming)"
      ],
      "metadata": {
        "id": "ljQzRyRfHYEI"
      },
      "execution_count": null,
      "outputs": []
    },
    {
      "cell_type": "code",
      "source": [
        "df.tags[0]"
      ],
      "metadata": {
        "id": "KQiyNVyTHcIK"
      },
      "execution_count": null,
      "outputs": []
    },
    {
      "cell_type": "markdown",
      "source": [
        "- We have stemming the corpus."
      ],
      "metadata": {
        "id": "JdqXN4NJJnWZ"
      }
    },
    {
      "cell_type": "markdown",
      "source": [
        "#### 5. Removing URLs & Removing words and digits contain digits."
      ],
      "metadata": {
        "id": "Hlsf0x5436Go"
      }
    },
    {
      "cell_type": "code",
      "source": [
        "# Remove URLs & Remove words and digits contain digits"
      ],
      "metadata": {
        "id": "2sxKgKxu4Ip3"
      },
      "execution_count": null,
      "outputs": []
    },
    {
      "cell_type": "markdown",
      "source": [
        "#### 6. Tokenization"
      ],
      "metadata": {
        "id": "OeJFEK0N496M"
      }
    },
    {
      "cell_type": "code",
      "source": [
        "# Tokenization"
      ],
      "metadata": {
        "id": "ijx1rUOS5CUU"
      },
      "execution_count": null,
      "outputs": []
    },
    {
      "cell_type": "markdown",
      "source": [
        "#### **7. Text Vectorization (TFIDF)**"
      ],
      "metadata": {
        "id": "T0VqWOYE6DLQ"
      }
    },
    {
      "cell_type": "markdown",
      "source": [
        "- We can vectorize the corpus using TFIDF vectorizer, where TFIDF stands for - Term Frequency Inverse Document Frequency.\n",
        "\n",
        "![image.png](data:image/png;base64,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)"
      ],
      "metadata": {
        "id": "9tXCGgTCKWyY"
      }
    },
    {
      "cell_type": "code",
      "source": [
        "from sklearn.feature_extraction.text import TfidfVectorizer\n",
        "\n",
        "# create the object of tfid vectorizer\n",
        "tfidf = TfidfVectorizer(stop_words='english', lowercase=False, max_features = 15000)   # max features = 15000 to prevent system from crashing\n",
        "\n",
        "# fit the vectorizer using the text data\n",
        "tfidf.fit(df['tags'])\n",
        "\n",
        "dictionary = tfidf.vocabulary_.items()\n",
        "len(dictionary)"
      ],
      "metadata": {
        "id": "yBRtdhth6JDE"
      },
      "execution_count": null,
      "outputs": []
    },
    {
      "cell_type": "code",
      "source": [
        "# convert vector into array form for clustering\n",
        "vector = tfidf.transform(df['tags']).toarray()\n",
        "\n",
        "# summarize encoded vector\n",
        "print(vector)\n",
        "print(f'shape of the vector : {vector.shape}')\n",
        "print(f'datatype : {type(vector)}')"
      ],
      "metadata": {
        "id": "VMxbLQUxKNZg"
      },
      "execution_count": null,
      "outputs": []
    },
    {
      "cell_type": "markdown",
      "source": [
        "### 7. Dimesionality Reduction"
      ],
      "metadata": {
        "id": "1UUpS68QDMuG"
      }
    },
    {
      "cell_type": "markdown",
      "source": [
        "##### Do you think that dimensionality reduction is needed? Explain Why?"
      ],
      "metadata": {
        "id": "kexQrXU-DjzY"
      }
    },
    {
      "cell_type": "markdown",
      "source": [
        "Answer Here."
      ],
      "metadata": {
        "id": "GGRlBsSGDtTQ"
      }
    },
    {
      "cell_type": "code",
      "source": [
        "# using PCA to reduce dimensionality\n",
        "pca = PCA(random_state=42)\n",
        "pca.fit(vector)"
      ],
      "metadata": {
        "id": "kQfvxBBHDvCa"
      },
      "execution_count": null,
      "outputs": []
    },
    {
      "cell_type": "code",
      "source": [
        "# Explained variance for different number of components\n",
        "plt.figure(figsize=(10,5))\n",
        "plt.plot(np.cumsum(pca.explained_variance_ratio_))\n",
        "plt.title('PCA - Cumulative explained variance vs number of components')\n",
        "plt.xlabel('number of components')\n",
        "plt.ylabel('cumulative explained variance')"
      ],
      "metadata": {
        "id": "axf5ez1aNdvh"
      },
      "execution_count": null,
      "outputs": []
    },
    {
      "cell_type": "markdown",
      "source": [
        "- We find that 100% of the variance is explained by about ~7500 components.\n",
        "- Also, more than 80% of the variance is explained just by 4000 components.\n",
        "- Hence to simplify the model, and reduce dimensionality, we can take the top 4500 components, which will still be able to capture more than 80% of variance."
      ],
      "metadata": {
        "id": "msIZGJi-RUxU"
      }
    },
    {
      "cell_type": "code",
      "source": [
        "# reducing the dimensions to 4500 using pca\n",
        "pca = PCA(n_components=4500, random_state=42)\n",
        "pca.fit(vector)"
      ],
      "metadata": {
        "id": "iwBXPbO_Rw0W"
      },
      "execution_count": null,
      "outputs": []
    },
    {
      "cell_type": "markdown",
      "source": [
        "### 8. Data Splitting"
      ],
      "metadata": {
        "id": "BhH2vgX9EjGr"
      }
    },
    {
      "cell_type": "code",
      "source": [
        "# Split your data to train and test. Choose Splitting ratio wisely."
      ],
      "metadata": {
        "id": "0CTyd2UwEyNM"
      },
      "execution_count": null,
      "outputs": []
    },
    {
      "cell_type": "markdown",
      "source": [
        "##### What data splitting ratio have you used and why? "
      ],
      "metadata": {
        "id": "qjKvONjwE8ra"
      }
    },
    {
      "cell_type": "markdown",
      "source": [
        "Answer Here."
      ],
      "metadata": {
        "id": "Y2lJ8cobFDb_"
      }
    },
    {
      "cell_type": "markdown",
      "source": [
        "### 9. Handling Imbalanced Dataset"
      ],
      "metadata": {
        "id": "P1XJ9OREExlT"
      }
    },
    {
      "cell_type": "markdown",
      "source": [
        "##### Do you think the dataset is imbalanced? Explain Why."
      ],
      "metadata": {
        "id": "VFOzZv6IFROw"
      }
    },
    {
      "cell_type": "markdown",
      "source": [
        "Answer Here."
      ],
      "metadata": {
        "id": "GeKDIv7pFgcC"
      }
    },
    {
      "cell_type": "code",
      "source": [
        "# Handling Imbalanced Dataset (If needed)"
      ],
      "metadata": {
        "id": "nQsRhhZLFiDs"
      },
      "execution_count": null,
      "outputs": []
    },
    {
      "cell_type": "markdown",
      "source": [
        "##### What technique did you use to handle the imbalance dataset and why? (If needed to be balanced)"
      ],
      "metadata": {
        "id": "TIqpNgepFxVj"
      }
    },
    {
      "cell_type": "markdown",
      "source": [
        "Answer Here."
      ],
      "metadata": {
        "id": "qbet1HwdGDTz"
      }
    },
    {
      "cell_type": "markdown",
      "source": [
        "## ***7. ML Model Implementation***"
      ],
      "metadata": {
        "id": "VfCC591jGiD4"
      }
    },
    {
      "cell_type": "markdown",
      "source": [
        "### ML Model - 1"
      ],
      "metadata": {
        "id": "OB4l2ZhMeS1U"
      }
    },
    {
      "cell_type": "code",
      "source": [
        "# ML Model - 1 Implementation\n",
        "\n",
        "# Fit the Algorithm\n",
        "\n",
        "# Predict on the model"
      ],
      "metadata": {
        "id": "7ebyywQieS1U"
      },
      "execution_count": null,
      "outputs": []
    },
    {
      "cell_type": "markdown",
      "source": [
        "#### 1. Explain the ML Model used and it's performance using Evaluation metric Score Chart."
      ],
      "metadata": {
        "id": "ArJBuiUVfxKd"
      }
    },
    {
      "cell_type": "code",
      "source": [
        "# Visualizing evaluation Metric Score chart"
      ],
      "metadata": {
        "id": "rqD5ZohzfxKe"
      },
      "execution_count": null,
      "outputs": []
    },
    {
      "cell_type": "markdown",
      "source": [
        "#### 2. Cross- Validation & Hyperparameter Tuning"
      ],
      "metadata": {
        "id": "4qY1EAkEfxKe"
      }
    },
    {
      "cell_type": "code",
      "source": [
        "# ML Model - 1 Implementation with hyperparameter optimization techniques (i.e., GridSearch CV, RandomSearch CV, Bayesian Optimization etc.)\n",
        "\n",
        "# Fit the Algorithm\n",
        "\n",
        "# Predict on the model"
      ],
      "metadata": {
        "id": "Dy61ujd6fxKe"
      },
      "execution_count": null,
      "outputs": []
    },
    {
      "cell_type": "markdown",
      "source": [
        "##### Which hyperparameter optimization technique have you used and why?"
      ],
      "metadata": {
        "id": "PiV4Ypx8fxKe"
      }
    },
    {
      "cell_type": "markdown",
      "source": [
        "Answer Here."
      ],
      "metadata": {
        "id": "negyGRa7fxKf"
      }
    },
    {
      "cell_type": "markdown",
      "source": [
        "##### Have you seen any improvement? Note down the improvement with updates Evaluation metric Score Chart."
      ],
      "metadata": {
        "id": "TfvqoZmBfxKf"
      }
    },
    {
      "cell_type": "markdown",
      "source": [
        "Answer Here."
      ],
      "metadata": {
        "id": "OaLui8CcfxKf"
      }
    },
    {
      "cell_type": "markdown",
      "source": [
        "### ML Model - 2"
      ],
      "metadata": {
        "id": "dJ2tPlVmpsJ0"
      }
    },
    {
      "cell_type": "markdown",
      "source": [
        "#### 1. Explain the ML Model used and it's performance using Evaluation metric Score Chart."
      ],
      "metadata": {
        "id": "JWYfwnehpsJ1"
      }
    },
    {
      "cell_type": "code",
      "source": [
        "# Visualizing evaluation Metric Score chart"
      ],
      "metadata": {
        "id": "yEl-hgQWpsJ1"
      },
      "execution_count": null,
      "outputs": []
    },
    {
      "cell_type": "markdown",
      "source": [
        "#### 2. Cross- Validation & Hyperparameter Tuning"
      ],
      "metadata": {
        "id": "-jK_YjpMpsJ2"
      }
    },
    {
      "cell_type": "code",
      "source": [
        "# ML Model - 1 Implementation with hyperparameter optimization techniques (i.e., GridSearch CV, RandomSearch CV, Bayesian Optimization etc.)\n",
        "\n",
        "# Fit the Algorithm\n",
        "\n",
        "# Predict on the model"
      ],
      "metadata": {
        "id": "Dn0EOfS6psJ2"
      },
      "execution_count": null,
      "outputs": []
    },
    {
      "cell_type": "markdown",
      "source": [
        "##### Which hyperparameter optimization technique have you used and why?"
      ],
      "metadata": {
        "id": "HAih1iBOpsJ2"
      }
    },
    {
      "cell_type": "markdown",
      "source": [
        "Answer Here."
      ],
      "metadata": {
        "id": "9kBgjYcdpsJ2"
      }
    },
    {
      "cell_type": "markdown",
      "source": [
        "##### Have you seen any improvement? Note down the improvement with updates Evaluation metric Score Chart."
      ],
      "metadata": {
        "id": "zVGeBEFhpsJ2"
      }
    },
    {
      "cell_type": "markdown",
      "source": [
        "Answer Here."
      ],
      "metadata": {
        "id": "74yRdG6UpsJ3"
      }
    },
    {
      "cell_type": "markdown",
      "source": [
        "#### 3. Explain each evaluation metric's indication towards business and the business impact pf the ML model used."
      ],
      "metadata": {
        "id": "bmKjuQ-FpsJ3"
      }
    },
    {
      "cell_type": "markdown",
      "source": [
        "Answer Here."
      ],
      "metadata": {
        "id": "BDKtOrBQpsJ3"
      }
    },
    {
      "cell_type": "markdown",
      "source": [
        "### ML Model - 3"
      ],
      "metadata": {
        "id": "Fze-IPXLpx6K"
      }
    },
    {
      "cell_type": "code",
      "source": [
        "# ML Model - 3 Implementation\n",
        "\n",
        "# Fit the Algorithm\n",
        "\n",
        "# Predict on the model"
      ],
      "metadata": {
        "id": "FFrSXAtrpx6M"
      },
      "execution_count": null,
      "outputs": []
    },
    {
      "cell_type": "markdown",
      "source": [
        "#### 1. Explain the ML Model used and it's performance using Evaluation metric Score Chart."
      ],
      "metadata": {
        "id": "7AN1z2sKpx6M"
      }
    },
    {
      "cell_type": "code",
      "source": [
        "# Visualizing evaluation Metric Score chart"
      ],
      "metadata": {
        "id": "xIY4lxxGpx6M"
      },
      "execution_count": null,
      "outputs": []
    },
    {
      "cell_type": "markdown",
      "source": [
        "#### 2. Cross- Validation & Hyperparameter Tuning"
      ],
      "metadata": {
        "id": "9PIHJqyupx6M"
      }
    },
    {
      "cell_type": "code",
      "source": [
        "# ML Model - 3 Implementation with hyperparameter optimization techniques (i.e., GridSearch CV, RandomSearch CV, Bayesian Optimization etc.)\n",
        "\n",
        "# Fit the Algorithm\n",
        "\n",
        "# Predict on the model"
      ],
      "metadata": {
        "id": "eSVXuaSKpx6M"
      },
      "execution_count": null,
      "outputs": []
    },
    {
      "cell_type": "markdown",
      "source": [
        "##### Which hyperparameter optimization technique have you used and why?"
      ],
      "metadata": {
        "id": "_-qAgymDpx6N"
      }
    },
    {
      "cell_type": "markdown",
      "source": [
        "Answer Here."
      ],
      "metadata": {
        "id": "lQMffxkwpx6N"
      }
    },
    {
      "cell_type": "markdown",
      "source": [
        "##### Have you seen any improvement? Note down the improvement with updates Evaluation metric Score Chart."
      ],
      "metadata": {
        "id": "Z-hykwinpx6N"
      }
    },
    {
      "cell_type": "markdown",
      "source": [
        "Answer Here."
      ],
      "metadata": {
        "id": "MzVzZC6opx6N"
      }
    },
    {
      "cell_type": "markdown",
      "source": [
        "### 1. Which Evaluation metrics did you consider for a positive business impact and why?"
      ],
      "metadata": {
        "id": "h_CCil-SKHpo"
      }
    },
    {
      "cell_type": "markdown",
      "source": [
        "Answer Here."
      ],
      "metadata": {
        "id": "jHVz9hHDKFms"
      }
    },
    {
      "cell_type": "markdown",
      "source": [
        "### 2. Which ML model did you choose from the above created models as your final prediction model and why?"
      ],
      "metadata": {
        "id": "cBFFvTBNJzUa"
      }
    },
    {
      "cell_type": "markdown",
      "source": [
        "Answer Here."
      ],
      "metadata": {
        "id": "6ksF5Q1LKTVm"
      }
    },
    {
      "cell_type": "markdown",
      "source": [
        "### 3. Explain the model which you have used and the feature importance using any model explainability tool?"
      ],
      "metadata": {
        "id": "HvGl1hHyA_VK"
      }
    },
    {
      "cell_type": "markdown",
      "source": [
        "Answer Here."
      ],
      "metadata": {
        "id": "YnvVTiIxBL-C"
      }
    },
    {
      "cell_type": "markdown",
      "source": [
        "## ***8.*** ***Future Work (Optional)***"
      ],
      "metadata": {
        "id": "EyNgTHvd2WFk"
      }
    },
    {
      "cell_type": "markdown",
      "source": [
        "### 1. Save the best performing ml model in a pickle file or joblib file format for deployment process.\n"
      ],
      "metadata": {
        "id": "KH5McJBi2d8v"
      }
    },
    {
      "cell_type": "code",
      "source": [
        "# Save the File"
      ],
      "metadata": {
        "id": "bQIANRl32f4J"
      },
      "execution_count": null,
      "outputs": []
    },
    {
      "cell_type": "markdown",
      "source": [
        "### 2. Again Load the saved model file and try to predict unseen data for a sanity check.\n"
      ],
      "metadata": {
        "id": "iW_Lq9qf2h6X"
      }
    },
    {
      "cell_type": "code",
      "source": [
        "# Load the File and predict unseen data."
      ],
      "metadata": {
        "id": "oEXk9ydD2nVC"
      },
      "execution_count": null,
      "outputs": []
    },
    {
      "cell_type": "markdown",
      "source": [
        "### ***Congrats! Your model is successfully created and ready for deployment on a live server for a real user interaction !!!***"
      ],
      "metadata": {
        "id": "-Kee-DAl2viO"
      }
    },
    {
      "cell_type": "markdown",
      "source": [
        "# **Conclusion**"
      ],
      "metadata": {
        "id": "gCX9965dhzqZ"
      }
    },
    {
      "cell_type": "markdown",
      "source": [
        "### ***Hurrah! You have successfully completed your Machine Learning Capstone Project !!!***"
      ],
      "metadata": {
        "id": "gIfDvo9L0UH2"
      }
    }
  ]
}